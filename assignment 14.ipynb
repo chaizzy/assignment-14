{
 "cells": [
  {
   "cell_type": "code",
   "execution_count": 6,
   "id": "71cc2855-7584-4974-bf47-b0ab4cea8fcc",
   "metadata": {},
   "outputs": [],
   "source": [
    "# ANS 1:\n",
    "# \"APIs\" are mechanisms  which enables two software to communicate with each other using defined set of \n",
    "# definations and protocols\n",
    "\n",
    "# example :\n",
    "# G-mail\n",
    "# Google\n",
    "\n",
    "#Real world applications\n",
    "# API is used in web applications to connect user facing  frontend  with backend data\n",
    "# It is also used to deliver material by  streaming services such as  netflix and spotify"
   ]
  },
  {
   "cell_type": "code",
   "execution_count": 7,
   "id": "2cca9c54-5760-4936-a07b-ded69e78e96b",
   "metadata": {},
   "outputs": [],
   "source": [
    "# ANS 2:\n",
    "\n",
    "# Disadvantages\n",
    "#  API is a gateway and can become a hacker's primary target. \n",
    "# Once the API is compromised, all other applications and systems become vulnerable.\n",
    "\n",
    "# Advantages\n",
    "# automation : less human work needed in workflows\n",
    "# developers productivity : as developers dont need to start from scratch"
   ]
  },
  {
   "cell_type": "code",
   "execution_count": 8,
   "id": "7f57228b-aa35-4044-a7b7-bc11cbda2577",
   "metadata": {},
   "outputs": [],
   "source": [
    "# ANS 3:\n",
    "# \"WEB API\" when a api is build with the help of http proctocol is said to be web api\n",
    "\n",
    "# normal api's can be build using http , smtp , Tcp/ip protocol"
   ]
  },
  {
   "cell_type": "code",
   "execution_count": 9,
   "id": "5d3da376-311d-4a54-a281-58fa2f9f7f4a",
   "metadata": {},
   "outputs": [],
   "source": [
    "# ANS 4:\n",
    "# Rest is the architectural style\n",
    "# REST stands for Representational State Transfer. REST defines a set of functions like GET, PUT, DELETE, etc. that clients can use to access server data. \n",
    "#Clients and servers exchange data using HTTP.\n",
    "\n",
    "\n",
    "# SOAP\n",
    "# These APIs use Simple Object Access Protocol. Client and server exchange messages using XML. \n",
    "#This is a less flexible API that was more popular in the past.\n",
    "\n",
    "# short comings of soap architecture\n",
    "# it is not flexible \n",
    "# it is not scalable \n",
    "# highly complexed\n",
    "# API'S are not cached\n",
    "\n"
   ]
  },
  {
   "cell_type": "code",
   "execution_count": 5,
   "id": "f2b88577-1516-4177-8ad1-59936e495aff",
   "metadata": {},
   "outputs": [],
   "source": [
    "# ANS 5:\n",
    "# REST \n",
    "# it uses http proctocol\n",
    "# it is flexible than soap\n",
    "# REST defines a set of functions like GET, PUT, DELETE, etc\n",
    "\n",
    "# SOAP \n",
    "# These APIs use Simple Object Access Protocol.\n",
    "#  Client and server exchange messages using XML"
   ]
  },
  {
   "cell_type": "code",
   "execution_count": null,
   "id": "b93d82af-3a49-44ce-b85c-183b6b9c8664",
   "metadata": {},
   "outputs": [],
   "source": []
  }
 ],
 "metadata": {
  "kernelspec": {
   "display_name": "Python 3 (ipykernel)",
   "language": "python",
   "name": "python3"
  },
  "language_info": {
   "codemirror_mode": {
    "name": "ipython",
    "version": 3
   },
   "file_extension": ".py",
   "mimetype": "text/x-python",
   "name": "python",
   "nbconvert_exporter": "python",
   "pygments_lexer": "ipython3",
   "version": "3.10.8"
  }
 },
 "nbformat": 4,
 "nbformat_minor": 5
}
